{
 "cells": [
  {
   "cell_type": "markdown",
   "id": "0b9bdfcb",
   "metadata": {},
   "source": [
    "# Практическое задание № 1"
   ]
  },
  {
   "cell_type": "markdown",
   "id": "45aa810a",
   "metadata": {},
   "source": [
    "**ЗАДАНИЕ**\n",
    "\n",
    "1. Создайте структуру данных, описывающую закрытую социальную сеть: \n",
    "\n",
    "    1.1 Создать список пользователей с идентификаторами и именами: users\n",
    "    \n",
    "    1.2 Создать список кортежей, определяющие дружбу между пользователями: fp\n",
    "    \n",
    "    1.3 С помощью цикла создать словарь friendships,  где ключ user_id и значение: список друзей\n",
    "    \n",
    "2. Создайте функцию, определяющую количество друзей у выбранного пользователя: number_of_friends(user).\n",
    "3. Создать список из кортежей в формате (Имя пользователя, число друзей)\n",
    "4. Отсортировать список по полю num_friends в убывающем порядке."
   ]
  },
  {
   "cell_type": "markdown",
   "id": "299d0556",
   "metadata": {},
   "source": [
    "### Частная социальная сеть"
   ]
  },
  {
   "cell_type": "markdown",
   "id": "e9c87951",
   "metadata": {},
   "source": [
    "<img src=\"MindMap1.jpg\">"
   ]
  },
  {
   "cell_type": "code",
   "execution_count": 1,
   "id": "22a2601c",
   "metadata": {},
   "outputs": [],
   "source": [
    "#Ваш код"
   ]
  }
 ],
 "metadata": {
  "kernelspec": {
   "display_name": "Python 3 (ipykernel)",
   "language": "python",
   "name": "python3"
  },
  "language_info": {
   "codemirror_mode": {
    "name": "ipython",
    "version": 3
   },
   "file_extension": ".py",
   "mimetype": "text/x-python",
   "name": "python",
   "nbconvert_exporter": "python",
   "pygments_lexer": "ipython3",
   "version": "3.9.12"
  }
 },
 "nbformat": 4,
 "nbformat_minor": 5
}
